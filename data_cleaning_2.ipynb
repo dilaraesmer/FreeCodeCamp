{
  "nbformat": 4,
  "nbformat_minor": 0,
  "metadata": {
    "colab": {
      "private_outputs": true,
      "provenance": [],
      "authorship_tag": "ABX9TyOgsOZRmk1DXdzRs8WRh74a",
      "include_colab_link": true
    },
    "kernelspec": {
      "name": "python3",
      "display_name": "Python 3"
    },
    "language_info": {
      "name": "python"
    }
  },
  "cells": [
    {
      "cell_type": "markdown",
      "metadata": {
        "id": "view-in-github",
        "colab_type": "text"
      },
      "source": [
        "<a href=\"https://colab.research.google.com/github/dilaraesmer/FreeCodeCamp/blob/main/data_cleaning_2.ipynb\" target=\"_parent\"><img src=\"https://colab.research.google.com/assets/colab-badge.svg\" alt=\"Open In Colab\"/></a>"
      ]
    },
    {
      "cell_type": "code",
      "execution_count": null,
      "metadata": {
        "id": "uiXr2cKGWZdF"
      },
      "outputs": [],
      "source": [
        "import pandas as pd\n",
        "import numpy as np"
      ]
    },
    {
      "cell_type": "code",
      "source": [
        "s = pd.Series([1,2,3, np.nan, np.nan, 4])"
      ],
      "metadata": {
        "id": "YHpbAt1JYyPi"
      },
      "execution_count": null,
      "outputs": []
    },
    {
      "cell_type": "markdown",
      "source": [
        "Filling nulls with arbitrary a value"
      ],
      "metadata": {
        "id": "8Ugi6zscY7G-"
      }
    },
    {
      "cell_type": "code",
      "source": [
        "s.fillna(0)"
      ],
      "metadata": {
        "id": "FSSllTTDY6yr"
      },
      "execution_count": null,
      "outputs": []
    },
    {
      "cell_type": "code",
      "source": [
        "s.fillna(s.mean())"
      ],
      "metadata": {
        "id": "i1kX0wnXZOHZ"
      },
      "execution_count": null,
      "outputs": []
    },
    {
      "cell_type": "code",
      "source": [
        "s"
      ],
      "metadata": {
        "id": "h5kIoZvsZWNh"
      },
      "execution_count": null,
      "outputs": []
    },
    {
      "cell_type": "markdown",
      "source": [
        "Filling nulles with contiguous (close) values"
      ],
      "metadata": {
        "id": "Lomz_rM8Zc7h"
      }
    },
    {
      "cell_type": "code",
      "source": [
        "s.fillna(method='ffill')"
      ],
      "metadata": {
        "id": "yw_3VBSHZtHD"
      },
      "execution_count": null,
      "outputs": []
    },
    {
      "cell_type": "code",
      "source": [
        "s.fillna(method='bfill')"
      ],
      "metadata": {
        "id": "KH9g-DsyZ_0v"
      },
      "execution_count": null,
      "outputs": []
    },
    {
      "cell_type": "code",
      "source": [
        "pd.Series([np.nan, 3, np.nan, 9]).fillna(method='ffill')"
      ],
      "metadata": {
        "id": "LFP7ECVsaD2R"
      },
      "execution_count": null,
      "outputs": []
    },
    {
      "cell_type": "code",
      "source": [
        "pd.Series([1, np.nan, 3, np.nan, np.nan]).fillna(method='bfill')"
      ],
      "metadata": {
        "id": "BztcvjwbaiAb"
      },
      "execution_count": null,
      "outputs": []
    },
    {
      "cell_type": "markdown",
      "source": [
        "Filling null values on DataFrames"
      ],
      "metadata": {
        "id": "GSjpM__4bX-J"
      }
    },
    {
      "cell_type": "code",
      "source": [
        "df = pd.DataFrame({\n",
        "    'Group 1': [22, 26, np.nan, 37],\n",
        "    'Group 2' : [29, np.nan, 42, 32],\n",
        "    'Group 3': [15, 21, np.nan, np.nan],\n",
        "    'Group 4': [52, np.nan, 73, 48]\n",
        "})"
      ],
      "metadata": {
        "id": "75rdpGktbViz"
      },
      "execution_count": null,
      "outputs": []
    },
    {
      "cell_type": "code",
      "source": [
        "df"
      ],
      "metadata": {
        "id": "e5CUTPrEbgWS"
      },
      "execution_count": null,
      "outputs": []
    },
    {
      "cell_type": "code",
      "source": [
        "df.fillna({'Group 1': 47, 'Group 2': 27, 'Group 3': df['Group 3'].mean(), 'Group 4': 63})"
      ],
      "metadata": {
        "id": "80lmzqGKbi-n"
      },
      "execution_count": null,
      "outputs": []
    },
    {
      "cell_type": "code",
      "source": [
        "df.fillna(method='ffill', axis=1)"
      ],
      "metadata": {
        "id": "PsMXZ3n4c1VU"
      },
      "execution_count": null,
      "outputs": []
    }
  ]
}