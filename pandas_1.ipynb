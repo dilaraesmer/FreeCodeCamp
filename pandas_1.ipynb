{
  "nbformat": 4,
  "nbformat_minor": 0,
  "metadata": {
    "colab": {
      "provenance": [],
      "authorship_tag": "ABX9TyMUsAjINvNdBFi/L1z7ygj0",
      "include_colab_link": true
    },
    "kernelspec": {
      "name": "python3",
      "display_name": "Python 3"
    },
    "language_info": {
      "name": "python"
    },
    "gpuClass": "standard"
  },
  "cells": [
    {
      "cell_type": "markdown",
      "metadata": {
        "id": "view-in-github",
        "colab_type": "text"
      },
      "source": [
        "<a href=\"https://colab.research.google.com/github/dilaraesmer/FreeCodeCamp/blob/main/pandas_1.ipynb\" target=\"_parent\"><img src=\"https://colab.research.google.com/assets/colab-badge.svg\" alt=\"Open In Colab\"/></a>"
      ]
    },
    {
      "cell_type": "code",
      "execution_count": 86,
      "metadata": {
        "id": "A-_6Yaq1GkLR"
      },
      "outputs": [],
      "source": [
        "import pandas as pd\n",
        "import numpy as np"
      ]
    },
    {
      "cell_type": "markdown",
      "source": [
        "Pandas Series"
      ],
      "metadata": {
        "id": "VGlegVwTC-oB"
      }
    },
    {
      "cell_type": "code",
      "source": [
        "gl_pop = pd.Series([35.467, 63.951, 80.940, 60.665, 127.061, 64.511, 318.523])"
      ],
      "metadata": {
        "id": "hZRbX706DBLc"
      },
      "execution_count": 87,
      "outputs": []
    },
    {
      "cell_type": "code",
      "source": [
        "gl_pop"
      ],
      "metadata": {
        "colab": {
          "base_uri": "https://localhost:8080/"
        },
        "id": "svOpWQJuECog",
        "outputId": "f134583d-1608-44d0-a099-ff005db1111e"
      },
      "execution_count": 51,
      "outputs": [
        {
          "output_type": "execute_result",
          "data": {
            "text/plain": [
              "0     35.467\n",
              "1     63.951\n",
              "2     80.940\n",
              "3     60.665\n",
              "4    127.061\n",
              "5     64.511\n",
              "6    318.523\n",
              "dtype: float64"
            ]
          },
          "metadata": {},
          "execution_count": 51
        }
      ]
    },
    {
      "cell_type": "code",
      "source": [
        "gl_pop.dtype"
      ],
      "metadata": {
        "colab": {
          "base_uri": "https://localhost:8080/"
        },
        "id": "rSGwH5uREIZF",
        "outputId": "8eed6909-761c-4cdb-bfb8-b1b1fd59146b"
      },
      "execution_count": 52,
      "outputs": [
        {
          "output_type": "execute_result",
          "data": {
            "text/plain": [
              "dtype('float64')"
            ]
          },
          "metadata": {},
          "execution_count": 52
        }
      ]
    },
    {
      "cell_type": "code",
      "source": [
        "gl_pop.values"
      ],
      "metadata": {
        "colab": {
          "base_uri": "https://localhost:8080/"
        },
        "id": "CGDS8UzMEeoG",
        "outputId": "b9832d05-75b6-4137-b97c-22588ef4ac6a"
      },
      "execution_count": 53,
      "outputs": [
        {
          "output_type": "execute_result",
          "data": {
            "text/plain": [
              "array([ 35.467,  63.951,  80.94 ,  60.665, 127.061,  64.511, 318.523])"
            ]
          },
          "metadata": {},
          "execution_count": 53
        }
      ]
    },
    {
      "cell_type": "code",
      "source": [
        "type(gl_pop.values)"
      ],
      "metadata": {
        "colab": {
          "base_uri": "https://localhost:8080/"
        },
        "id": "i0el0xKbElQd",
        "outputId": "b87f7a9b-3d3c-47c1-95cb-14a8b4ebab1a"
      },
      "execution_count": 54,
      "outputs": [
        {
          "output_type": "execute_result",
          "data": {
            "text/plain": [
              "numpy.ndarray"
            ]
          },
          "metadata": {},
          "execution_count": 54
        }
      ]
    },
    {
      "cell_type": "code",
      "source": [
        "gl_pop[0]"
      ],
      "metadata": {
        "colab": {
          "base_uri": "https://localhost:8080/"
        },
        "id": "PeFav8T4EzbN",
        "outputId": "5f2883c4-d45f-4260-9081-32a6cb763e3d"
      },
      "execution_count": 55,
      "outputs": [
        {
          "output_type": "execute_result",
          "data": {
            "text/plain": [
              "35.467"
            ]
          },
          "metadata": {},
          "execution_count": 55
        }
      ]
    },
    {
      "cell_type": "code",
      "source": [
        "gl_pop[1]"
      ],
      "metadata": {
        "colab": {
          "base_uri": "https://localhost:8080/"
        },
        "id": "p7qgyPtqFL1m",
        "outputId": "5ed885af-887c-4724-c87c-f20c4a0bd0b5"
      },
      "execution_count": 56,
      "outputs": [
        {
          "output_type": "execute_result",
          "data": {
            "text/plain": [
              "63.951"
            ]
          },
          "metadata": {},
          "execution_count": 56
        }
      ]
    },
    {
      "cell_type": "code",
      "source": [
        "gl_pop.index"
      ],
      "metadata": {
        "colab": {
          "base_uri": "https://localhost:8080/"
        },
        "id": "vF6sMSlBFOZU",
        "outputId": "0194d163-a984-4106-b0db-b79b32986704"
      },
      "execution_count": 31,
      "outputs": [
        {
          "output_type": "execute_result",
          "data": {
            "text/plain": [
              "RangeIndex(start=0, stop=7, step=1)"
            ]
          },
          "metadata": {},
          "execution_count": 31
        }
      ]
    },
    {
      "cell_type": "code",
      "source": [
        "l = ['a', 'b', 'c']"
      ],
      "metadata": {
        "id": "tdSPW_ItFqq3"
      },
      "execution_count": 57,
      "outputs": []
    },
    {
      "cell_type": "code",
      "source": [
        "gl_pop.index = [\n",
        "    'Canada',\n",
        "    'France',\n",
        "    'Germany',\n",
        "    'Italy',\n",
        "    'Japon',\n",
        "    'United Kingdom',\n",
        "    'United States'\n",
        "]"
      ],
      "metadata": {
        "id": "i3Xrz587HLME"
      },
      "execution_count": 35,
      "outputs": []
    },
    {
      "cell_type": "code",
      "source": [
        "gl_pop"
      ],
      "metadata": {
        "colab": {
          "base_uri": "https://localhost:8080/"
        },
        "id": "Y_5f1CTiHpjz",
        "outputId": "f05552e6-6001-4231-ec95-8bf25dc513cf"
      },
      "execution_count": 36,
      "outputs": [
        {
          "output_type": "execute_result",
          "data": {
            "text/plain": [
              "Canada             35.467\n",
              "France             63.951\n",
              "Germany            80.940\n",
              "Italy              60.665\n",
              "Japon             127.061\n",
              "United Kingdom     64.511\n",
              "United States     318.523\n",
              "dtype: float64"
            ]
          },
          "metadata": {},
          "execution_count": 36
        }
      ]
    },
    {
      "cell_type": "code",
      "source": [
        "pd.Series({\n",
        "    'Canada' : 35.467,\n",
        "    'France' : 63.951,\n",
        "    'Germany' : 80.940,\n",
        "    'Italy' : 60.665,\n",
        "    'Japon' : 127.061,\n",
        "    'United Kingdom' : 64.511,\n",
        "    'United States' : 318.523\n",
        "}, name = '67 Population in millions')"
      ],
      "metadata": {
        "colab": {
          "base_uri": "https://localhost:8080/"
        },
        "id": "7vy5m6WULrq1",
        "outputId": "9f694602-9eaf-4bcb-f431-e6b38b54594a"
      },
      "execution_count": 38,
      "outputs": [
        {
          "output_type": "execute_result",
          "data": {
            "text/plain": [
              "Canada             35.467\n",
              "France             63.951\n",
              "Germany            80.940\n",
              "Italy              60.665\n",
              "Japon             127.061\n",
              "United Kingdom     64.511\n",
              "United States     318.523\n",
              "Name: 67 Population in millions, dtype: float64"
            ]
          },
          "metadata": {},
          "execution_count": 38
        }
      ]
    },
    {
      "cell_type": "code",
      "source": [
        "pd.Series(\n",
        "    [35.467, 63.951, 80.940, 60.665, 127.061, 64.511, 318.523],\n",
        "     index = ['Canada','France','Germany','Italy','Japon','United Kingdom',\n",
        "              'United States'],\n",
        "        name = '67 Population in millions'\n",
        "    \n",
        ")"
      ],
      "metadata": {
        "colab": {
          "base_uri": "https://localhost:8080/"
        },
        "id": "METYJXTMNEmS",
        "outputId": "8872b13f-6a32-4c73-efc9-0cd74f464c25"
      },
      "execution_count": 39,
      "outputs": [
        {
          "output_type": "execute_result",
          "data": {
            "text/plain": [
              "Canada             35.467\n",
              "France             63.951\n",
              "Germany            80.940\n",
              "Italy              60.665\n",
              "Japon             127.061\n",
              "United Kingdom     64.511\n",
              "United States     318.523\n",
              "Name: 67 Population in millions, dtype: float64"
            ]
          },
          "metadata": {},
          "execution_count": 39
        }
      ]
    },
    {
      "cell_type": "code",
      "source": [
        "pd.Series(gl_pop, index = ['France','Germany','Italy','Spain'])"
      ],
      "metadata": {
        "colab": {
          "base_uri": "https://localhost:8080/"
        },
        "id": "YDjWs-wIN-fB",
        "outputId": "35c115f0-3447-434c-f73d-ee8ca399e063"
      },
      "execution_count": 40,
      "outputs": [
        {
          "output_type": "execute_result",
          "data": {
            "text/plain": [
              "France     63.951\n",
              "Germany    80.940\n",
              "Italy      60.665\n",
              "Spain         NaN\n",
              "dtype: float64"
            ]
          },
          "metadata": {},
          "execution_count": 40
        }
      ]
    },
    {
      "cell_type": "markdown",
      "source": [
        "Indexing"
      ],
      "metadata": {
        "id": "8pDUs3jMO72n"
      }
    },
    {
      "cell_type": "code",
      "source": [
        "gl_pop['Canada']"
      ],
      "metadata": {
        "colab": {
          "base_uri": "https://localhost:8080/"
        },
        "id": "9QJJKuypO9Zr",
        "outputId": "be2b0291-b317-47fe-b34f-3eb73212362f"
      },
      "execution_count": 41,
      "outputs": [
        {
          "output_type": "execute_result",
          "data": {
            "text/plain": [
              "35.467"
            ]
          },
          "metadata": {},
          "execution_count": 41
        }
      ]
    },
    {
      "cell_type": "code",
      "source": [
        "gl_pop[['Japon', 'Germany']]"
      ],
      "metadata": {
        "colab": {
          "base_uri": "https://localhost:8080/"
        },
        "id": "xDG2iMdvPEYo",
        "outputId": "d256cc55-fe9c-4a13-daed-e02203996cbb"
      },
      "execution_count": 42,
      "outputs": [
        {
          "output_type": "execute_result",
          "data": {
            "text/plain": [
              "Japon      127.061\n",
              "Germany     80.940\n",
              "dtype: float64"
            ]
          },
          "metadata": {},
          "execution_count": 42
        }
      ]
    },
    {
      "cell_type": "code",
      "source": [
        "gl_pop[['Japon', 'France', 'Italy']]"
      ],
      "metadata": {
        "colab": {
          "base_uri": "https://localhost:8080/"
        },
        "id": "KWQnkaOoPMEO",
        "outputId": "64f748e9-4921-42f4-cca9-3bd1452f5cfc"
      },
      "execution_count": 45,
      "outputs": [
        {
          "output_type": "execute_result",
          "data": {
            "text/plain": [
              "Japon     127.061\n",
              "France     63.951\n",
              "Italy      60.665\n",
              "dtype: float64"
            ]
          },
          "metadata": {},
          "execution_count": 45
        }
      ]
    },
    {
      "cell_type": "code",
      "source": [
        "gl_pop.iloc[0]"
      ],
      "metadata": {
        "colab": {
          "base_uri": "https://localhost:8080/"
        },
        "id": "wsPy23WcPlt8",
        "outputId": "caf6ae2e-7675-44c4-d260-ed1718f2934f"
      },
      "execution_count": 46,
      "outputs": [
        {
          "output_type": "execute_result",
          "data": {
            "text/plain": [
              "35.467"
            ]
          },
          "metadata": {},
          "execution_count": 46
        }
      ]
    },
    {
      "cell_type": "code",
      "source": [
        "gl_pop.iloc[-1]"
      ],
      "metadata": {
        "colab": {
          "base_uri": "https://localhost:8080/"
        },
        "id": "Pt5trPjgPr6v",
        "outputId": "999e3501-bcbb-448a-e07d-b6150aa39108"
      },
      "execution_count": 47,
      "outputs": [
        {
          "output_type": "execute_result",
          "data": {
            "text/plain": [
              "318.523"
            ]
          },
          "metadata": {},
          "execution_count": 47
        }
      ]
    },
    {
      "cell_type": "code",
      "source": [
        "gl_pop.iloc[[0,1]]"
      ],
      "metadata": {
        "colab": {
          "base_uri": "https://localhost:8080/"
        },
        "id": "eflnbMxtPybY",
        "outputId": "04801a90-91d1-41af-ed1c-cf64c5f4c0bb"
      },
      "execution_count": 48,
      "outputs": [
        {
          "output_type": "execute_result",
          "data": {
            "text/plain": [
              "Canada    35.467\n",
              "France    63.951\n",
              "dtype: float64"
            ]
          },
          "metadata": {},
          "execution_count": 48
        }
      ]
    },
    {
      "cell_type": "markdown",
      "source": [
        "Conditional Selection (Boolean Arrays)"
      ],
      "metadata": {
        "id": "DGDwimGHXdka"
      }
    },
    {
      "cell_type": "code",
      "source": [
        "gl_pop"
      ],
      "metadata": {
        "colab": {
          "base_uri": "https://localhost:8080/"
        },
        "id": "0qMtrD4wYAoi",
        "outputId": "a6c1058d-86af-4ae0-f6b6-d7fc4e27d758"
      },
      "execution_count": 60,
      "outputs": [
        {
          "output_type": "execute_result",
          "data": {
            "text/plain": [
              "0     35.467\n",
              "1     63.951\n",
              "2     80.940\n",
              "3     60.665\n",
              "4    127.061\n",
              "5     64.511\n",
              "6    318.523\n",
              "dtype: float64"
            ]
          },
          "metadata": {},
          "execution_count": 60
        }
      ]
    },
    {
      "cell_type": "code",
      "source": [
        "gl_pop > 70"
      ],
      "metadata": {
        "colab": {
          "base_uri": "https://localhost:8080/"
        },
        "id": "gx8xU47zYEib",
        "outputId": "d20dc643-4b1f-45c7-9dea-329919297cd5"
      },
      "execution_count": 61,
      "outputs": [
        {
          "output_type": "execute_result",
          "data": {
            "text/plain": [
              "0    False\n",
              "1    False\n",
              "2     True\n",
              "3    False\n",
              "4     True\n",
              "5    False\n",
              "6     True\n",
              "dtype: bool"
            ]
          },
          "metadata": {},
          "execution_count": 61
        }
      ]
    },
    {
      "cell_type": "code",
      "source": [
        "gl_pop[gl_pop > 70]"
      ],
      "metadata": {
        "colab": {
          "base_uri": "https://localhost:8080/"
        },
        "id": "DMpo2JNYYZtj",
        "outputId": "4fae450c-652a-4453-b03a-fa3589057f64"
      },
      "execution_count": 62,
      "outputs": [
        {
          "output_type": "execute_result",
          "data": {
            "text/plain": [
              "2     80.940\n",
              "4    127.061\n",
              "6    318.523\n",
              "dtype: float64"
            ]
          },
          "metadata": {},
          "execution_count": 62
        }
      ]
    },
    {
      "cell_type": "code",
      "source": [
        "gl_pop.mean()"
      ],
      "metadata": {
        "colab": {
          "base_uri": "https://localhost:8080/"
        },
        "id": "ArdZaUGfYhGS",
        "outputId": "b60edeb6-1339-4f54-de40-5f159e64af12"
      },
      "execution_count": 63,
      "outputs": [
        {
          "output_type": "execute_result",
          "data": {
            "text/plain": [
              "107.30257142857144"
            ]
          },
          "metadata": {},
          "execution_count": 63
        }
      ]
    },
    {
      "cell_type": "code",
      "source": [
        "gl_pop[gl_pop > gl_pop.mean()]"
      ],
      "metadata": {
        "colab": {
          "base_uri": "https://localhost:8080/"
        },
        "id": "wkQ72JjuYmoA",
        "outputId": "772259ef-05cb-43c6-c3a1-d41bd5c8bffd"
      },
      "execution_count": 64,
      "outputs": [
        {
          "output_type": "execute_result",
          "data": {
            "text/plain": [
              "4    127.061\n",
              "6    318.523\n",
              "dtype: float64"
            ]
          },
          "metadata": {},
          "execution_count": 64
        }
      ]
    },
    {
      "cell_type": "code",
      "source": [
        "gl_pop.std()"
      ],
      "metadata": {
        "colab": {
          "base_uri": "https://localhost:8080/"
        },
        "id": "xCmJPMHIY75d",
        "outputId": "0450558d-22cc-4e05-bdc8-39c9220a6a5a"
      },
      "execution_count": 65,
      "outputs": [
        {
          "output_type": "execute_result",
          "data": {
            "text/plain": [
              "97.24996987121581"
            ]
          },
          "metadata": {},
          "execution_count": 65
        }
      ]
    },
    {
      "cell_type": "markdown",
      "source": [
        "~ not\n",
        "\n",
        "| or\n",
        "\n",
        "\n",
        "& and"
      ],
      "metadata": {
        "id": "gnJBFcEBd5En"
      }
    },
    {
      "cell_type": "code",
      "source": [
        "gl_pop[(gl_pop > gl_pop.mean() - gl_pop.std() / 2) | (gl_pop > gl_pop.mean() + gl_pop.std() / 2)]"
      ],
      "metadata": {
        "colab": {
          "base_uri": "https://localhost:8080/"
        },
        "id": "nqrW-P1kYmyo",
        "outputId": "d88ef53c-9446-408b-a308-2bb74525bbac"
      },
      "execution_count": 66,
      "outputs": [
        {
          "output_type": "execute_result",
          "data": {
            "text/plain": [
              "1     63.951\n",
              "2     80.940\n",
              "3     60.665\n",
              "4    127.061\n",
              "5     64.511\n",
              "6    318.523\n",
              "dtype: float64"
            ]
          },
          "metadata": {},
          "execution_count": 66
        }
      ]
    },
    {
      "cell_type": "markdown",
      "source": [
        "Operations and Methods"
      ],
      "metadata": {
        "id": "S3wsSeoLbbcg"
      }
    },
    {
      "cell_type": "code",
      "source": [
        "gl_pop"
      ],
      "metadata": {
        "colab": {
          "base_uri": "https://localhost:8080/"
        },
        "id": "RkFOkjnbbKxt",
        "outputId": "bad7336f-d128-4e7b-910c-0203462392ec"
      },
      "execution_count": 67,
      "outputs": [
        {
          "output_type": "execute_result",
          "data": {
            "text/plain": [
              "0     35.467\n",
              "1     63.951\n",
              "2     80.940\n",
              "3     60.665\n",
              "4    127.061\n",
              "5     64.511\n",
              "6    318.523\n",
              "dtype: float64"
            ]
          },
          "metadata": {},
          "execution_count": 67
        }
      ]
    },
    {
      "cell_type": "code",
      "source": [
        "gl_pop * 1_000_000"
      ],
      "metadata": {
        "colab": {
          "base_uri": "https://localhost:8080/"
        },
        "id": "q6DvsmwYcn0n",
        "outputId": "789f9741-d1a5-4d21-bbd5-5ba4eacc9dc8"
      },
      "execution_count": 68,
      "outputs": [
        {
          "output_type": "execute_result",
          "data": {
            "text/plain": [
              "0     35467000.0\n",
              "1     63951000.0\n",
              "2     80940000.0\n",
              "3     60665000.0\n",
              "4    127061000.0\n",
              "5     64511000.0\n",
              "6    318523000.0\n",
              "dtype: float64"
            ]
          },
          "metadata": {},
          "execution_count": 68
        }
      ]
    },
    {
      "cell_type": "code",
      "source": [
        "gl_pop.mean()"
      ],
      "metadata": {
        "colab": {
          "base_uri": "https://localhost:8080/"
        },
        "id": "HrgcrxX9dPWV",
        "outputId": "0bc69020-8325-4173-cdee-a8b878f5ea52"
      },
      "execution_count": 69,
      "outputs": [
        {
          "output_type": "execute_result",
          "data": {
            "text/plain": [
              "107.30257142857144"
            ]
          },
          "metadata": {},
          "execution_count": 69
        }
      ]
    },
    {
      "cell_type": "code",
      "source": [
        "np.log(gl_pop)"
      ],
      "metadata": {
        "colab": {
          "base_uri": "https://localhost:8080/"
        },
        "id": "saX8_yTzeDT2",
        "outputId": "13613bb0-c9b5-4655-c1a1-2ce070c393c7"
      },
      "execution_count": 71,
      "outputs": [
        {
          "output_type": "execute_result",
          "data": {
            "text/plain": [
              "0    3.568603\n",
              "1    4.158117\n",
              "2    4.393708\n",
              "3    4.105367\n",
              "4    4.844667\n",
              "5    4.166836\n",
              "6    5.763695\n",
              "dtype: float64"
            ]
          },
          "metadata": {},
          "execution_count": 71
        }
      ]
    },
    {
      "cell_type": "markdown",
      "source": [
        "Boolean Arrays"
      ],
      "metadata": {
        "id": "7_qN6LHtel1P"
      }
    },
    {
      "cell_type": "code",
      "source": [
        "gl_pop"
      ],
      "metadata": {
        "colab": {
          "base_uri": "https://localhost:8080/"
        },
        "id": "YaYzAcfteTsG",
        "outputId": "23515db8-f8d9-4cea-b082-8e3339968e45"
      },
      "execution_count": 73,
      "outputs": [
        {
          "output_type": "execute_result",
          "data": {
            "text/plain": [
              "0     35.467\n",
              "1     63.951\n",
              "2     80.940\n",
              "3     60.665\n",
              "4    127.061\n",
              "5     64.511\n",
              "6    318.523\n",
              "dtype: float64"
            ]
          },
          "metadata": {},
          "execution_count": 73
        }
      ]
    },
    {
      "cell_type": "code",
      "source": [
        "gl_pop > 80"
      ],
      "metadata": {
        "colab": {
          "base_uri": "https://localhost:8080/"
        },
        "id": "9FOmAZLcet-n",
        "outputId": "ed56a433-10bf-4a62-9da0-0bf3e6cf79d9"
      },
      "execution_count": 74,
      "outputs": [
        {
          "output_type": "execute_result",
          "data": {
            "text/plain": [
              "0    False\n",
              "1    False\n",
              "2     True\n",
              "3    False\n",
              "4     True\n",
              "5    False\n",
              "6     True\n",
              "dtype: bool"
            ]
          },
          "metadata": {},
          "execution_count": 74
        }
      ]
    },
    {
      "cell_type": "code",
      "source": [
        "gl_pop[gl_pop > 80]"
      ],
      "metadata": {
        "colab": {
          "base_uri": "https://localhost:8080/"
        },
        "id": "dvqfc0NFex1g",
        "outputId": "aa985b47-dcea-4f34-dc34-2d3e19a04f85"
      },
      "execution_count": 75,
      "outputs": [
        {
          "output_type": "execute_result",
          "data": {
            "text/plain": [
              "2     80.940\n",
              "4    127.061\n",
              "6    318.523\n",
              "dtype: float64"
            ]
          },
          "metadata": {},
          "execution_count": 75
        }
      ]
    },
    {
      "cell_type": "code",
      "source": [
        "gl_pop[(gl_pop > 80) | (gl_pop < 40)]"
      ],
      "metadata": {
        "colab": {
          "base_uri": "https://localhost:8080/"
        },
        "id": "iM_shzive5Vb",
        "outputId": "402fb1e5-443b-455b-a642-eb1b74309f9a"
      },
      "execution_count": 76,
      "outputs": [
        {
          "output_type": "execute_result",
          "data": {
            "text/plain": [
              "0     35.467\n",
              "2     80.940\n",
              "4    127.061\n",
              "6    318.523\n",
              "dtype: float64"
            ]
          },
          "metadata": {},
          "execution_count": 76
        }
      ]
    },
    {
      "cell_type": "code",
      "source": [
        "gl_pop[(gl_pop > 80) & (gl_pop < 200)]"
      ],
      "metadata": {
        "colab": {
          "base_uri": "https://localhost:8080/"
        },
        "id": "EkV2gJXjfFCq",
        "outputId": "33717865-7fda-45cf-e4e1-608b0348e173"
      },
      "execution_count": 78,
      "outputs": [
        {
          "output_type": "execute_result",
          "data": {
            "text/plain": [
              "2     80.940\n",
              "4    127.061\n",
              "dtype: float64"
            ]
          },
          "metadata": {},
          "execution_count": 78
        }
      ]
    },
    {
      "cell_type": "markdown",
      "source": [
        "Modifying Series"
      ],
      "metadata": {
        "id": "CcGdMRS4fWga"
      }
    },
    {
      "cell_type": "code",
      "source": [
        "gl_pop['Canada'] = 40.5"
      ],
      "metadata": {
        "id": "O3-aRIAIfNiJ"
      },
      "execution_count": 79,
      "outputs": []
    },
    {
      "cell_type": "code",
      "source": [
        "gl_pop"
      ],
      "metadata": {
        "colab": {
          "base_uri": "https://localhost:8080/"
        },
        "id": "jSyc_tc5fn1g",
        "outputId": "10c054ba-59cd-4564-b886-a9dfb9d4f814"
      },
      "execution_count": 80,
      "outputs": [
        {
          "output_type": "execute_result",
          "data": {
            "text/plain": [
              "0          35.467\n",
              "1          63.951\n",
              "2          80.940\n",
              "3          60.665\n",
              "4         127.061\n",
              "5          64.511\n",
              "6         318.523\n",
              "Canada     40.500\n",
              "dtype: float64"
            ]
          },
          "metadata": {},
          "execution_count": 80
        }
      ]
    },
    {
      "cell_type": "code",
      "source": [
        "gl_pop.iloc[-1] = 500"
      ],
      "metadata": {
        "id": "PXZUuhCrfuVE"
      },
      "execution_count": 82,
      "outputs": []
    },
    {
      "cell_type": "code",
      "source": [
        "gl_pop"
      ],
      "metadata": {
        "colab": {
          "base_uri": "https://localhost:8080/"
        },
        "id": "CqF9omELf1eb",
        "outputId": "9efb97de-102b-49eb-ef2b-6b5cf3921d24"
      },
      "execution_count": 83,
      "outputs": [
        {
          "output_type": "execute_result",
          "data": {
            "text/plain": [
              "0          35.467\n",
              "1          63.951\n",
              "2          80.940\n",
              "3          60.665\n",
              "4         127.061\n",
              "5          64.511\n",
              "6         318.523\n",
              "Canada    500.000\n",
              "dtype: float64"
            ]
          },
          "metadata": {},
          "execution_count": 83
        }
      ]
    },
    {
      "cell_type": "code",
      "source": [
        "gl_pop[gl_pop > 70] = 99.99"
      ],
      "metadata": {
        "id": "URn_TlNYf9Gy"
      },
      "execution_count": 84,
      "outputs": []
    },
    {
      "cell_type": "code",
      "source": [
        "gl_pop"
      ],
      "metadata": {
        "colab": {
          "base_uri": "https://localhost:8080/"
        },
        "id": "HDCTHS1pgRHW",
        "outputId": "038ffff6-6404-4e7d-e1fa-7798fc60595f"
      },
      "execution_count": 85,
      "outputs": [
        {
          "output_type": "execute_result",
          "data": {
            "text/plain": [
              "0         35.467\n",
              "1         63.951\n",
              "2         99.990\n",
              "3         60.665\n",
              "4         99.990\n",
              "5         64.511\n",
              "6         99.990\n",
              "Canada    99.990\n",
              "dtype: float64"
            ]
          },
          "metadata": {},
          "execution_count": 85
        }
      ]
    },
    {
      "cell_type": "markdown",
      "source": [
        "Sleep iOS App Data"
      ],
      "metadata": {
        "id": "qpzLFFery9nc"
      }
    },
    {
      "cell_type": "code",
      "source": [
        "df = pd.read_csv('sleepdata_2.csv', sep=';')"
      ],
      "metadata": {
        "id": "wPxkkFCaiKUj"
      },
      "execution_count": 107,
      "outputs": []
    },
    {
      "cell_type": "code",
      "source": [
        "df"
      ],
      "metadata": {
        "colab": {
          "base_uri": "https://localhost:8080/",
          "height": 887
        },
        "id": "bzIiUasvymj3",
        "outputId": "1b8d260f-0d37-4afc-9bcc-bf481fde49e5"
      },
      "execution_count": 108,
      "outputs": [
        {
          "output_type": "execute_result",
          "data": {
            "text/plain": [
              "                   Start                  End Sleep Quality Regularity  Mood  \\\n",
              "0    2019-05-12 23:26:13  2019-05-13 06:11:03           60%         0%   NaN   \n",
              "1    2019-05-13 22:10:31  2019-05-14 06:10:42           73%         0%   NaN   \n",
              "2    2019-05-14 21:43:00  2019-05-15 06:10:41           86%        96%   NaN   \n",
              "3    2019-05-15 23:11:51  2019-05-16 06:13:59           77%        92%   NaN   \n",
              "4    2019-05-16 23:12:13  2019-05-17 06:20:32           78%        94%   NaN   \n",
              "..                   ...                  ...           ...        ...   ...   \n",
              "916  2022-03-24 21:33:46  2022-03-25 04:21:40           71%        77%   NaN   \n",
              "917  2022-03-25 16:48:05  2022-03-25 17:30:22            9%        14%   NaN   \n",
              "918  2022-03-26 21:14:23  2022-03-27 06:11:01           49%        -1%   NaN   \n",
              "919  2022-03-28 22:53:23  2022-03-29 04:50:36           77%        22%   NaN   \n",
              "920  2022-03-29 22:44:09  2022-03-30 05:11:15           68%        85%   NaN   \n",
              "\n",
              "     Heart rate (bpm)  Steps Alarm mode  Air Pressure (Pa)              City  \\\n",
              "0                   0   8350     Normal                NaN               NaN   \n",
              "1                   0   4746     Normal                NaN               NaN   \n",
              "2                   0   4007     Normal                NaN               NaN   \n",
              "3                   0   6578     Normal                NaN               NaN   \n",
              "4                   0   4913     Normal                NaN               NaN   \n",
              "..                ...    ...        ...                ...               ...   \n",
              "916                 0   3903     Normal               95.2  Central Kootenay   \n",
              "917                 0    495     Normal               83.8    North Okanagan   \n",
              "918                 0  13388     Normal               83.5    North Okanagan   \n",
              "919                 0    456     Normal               93.9  Central Kootenay   \n",
              "920                 0   5156     Normal               94.4  Central Kootenay   \n",
              "\n",
              "     ...  Time in bed (seconds)  Time asleep (seconds)  \\\n",
              "0    ...                24289.2                22993.8   \n",
              "1    ...                28810.2                25160.9   \n",
              "2    ...                30461.5                28430.8   \n",
              "3    ...                25327.6                23132.5   \n",
              "4    ...                25698.4                22614.6   \n",
              "..   ...                    ...                    ...   \n",
              "916  ...                24474.1                20803.0   \n",
              "917  ...                 2536.2                    0.0   \n",
              "918  ...                32198.1                24577.9   \n",
              "919  ...                21433.6                15860.8   \n",
              "920  ...                23225.9                18813.0   \n",
              "\n",
              "     Time before sleep (seconds)         Window start          Window stop  \\\n",
              "0                          161.9  2019-05-13 06:00:00  2019-05-13 06:00:00   \n",
              "1                          192.1  2019-05-14 05:50:00  2019-05-14 05:50:00   \n",
              "2                          203.1  2019-05-15 05:50:00  2019-05-15 05:50:00   \n",
              "3                          168.9  2019-05-16 05:50:00  2019-05-16 05:50:00   \n",
              "4                          171.3  2019-05-17 05:50:00  2019-05-17 05:50:00   \n",
              "..                           ...                  ...                  ...   \n",
              "916                        489.5  2022-03-25 04:20:00  2022-03-25 04:20:00   \n",
              "917                          0.0  2022-03-25 17:30:00  2022-03-25 17:30:00   \n",
              "918                       3649.1  2022-03-27 06:00:00  2022-03-27 06:00:00   \n",
              "919                        428.7  2022-03-29 04:20:00  2022-03-29 04:20:00   \n",
              "920                        464.5  2022-03-30 05:00:00  2022-03-30 05:00:00   \n",
              "\n",
              "    Did snore  Snore time  Weather temperature (°C)  Weather type Notes  \n",
              "0        True        92.0                       0.0    No weather   NaN  \n",
              "1        True         0.0                       0.0    No weather   NaN  \n",
              "2        True        74.0                       0.0    No weather   NaN  \n",
              "3        True         0.0                       0.0    No weather   NaN  \n",
              "4        True       188.0                       0.0    No weather   NaN  \n",
              "..        ...         ...                       ...           ...   ...  \n",
              "916      True       695.7                       4.0        Cloudy   NaN  \n",
              "917      True         0.0                       5.0        Cloudy   NaN  \n",
              "918      True       506.4                      -1.1        Cloudy   NaN  \n",
              "919      True        60.0                       6.1         Sunny   NaN  \n",
              "920      True       720.0                      10.5        Cloudy   NaN  \n",
              "\n",
              "[921 rows x 21 columns]"
            ],
            "text/html": [
              "\n",
              "  <div id=\"df-f9f40da2-6f61-45df-8537-74d14cb85f45\">\n",
              "    <div class=\"colab-df-container\">\n",
              "      <div>\n",
              "<style scoped>\n",
              "    .dataframe tbody tr th:only-of-type {\n",
              "        vertical-align: middle;\n",
              "    }\n",
              "\n",
              "    .dataframe tbody tr th {\n",
              "        vertical-align: top;\n",
              "    }\n",
              "\n",
              "    .dataframe thead th {\n",
              "        text-align: right;\n",
              "    }\n",
              "</style>\n",
              "<table border=\"1\" class=\"dataframe\">\n",
              "  <thead>\n",
              "    <tr style=\"text-align: right;\">\n",
              "      <th></th>\n",
              "      <th>Start</th>\n",
              "      <th>End</th>\n",
              "      <th>Sleep Quality</th>\n",
              "      <th>Regularity</th>\n",
              "      <th>Mood</th>\n",
              "      <th>Heart rate (bpm)</th>\n",
              "      <th>Steps</th>\n",
              "      <th>Alarm mode</th>\n",
              "      <th>Air Pressure (Pa)</th>\n",
              "      <th>City</th>\n",
              "      <th>...</th>\n",
              "      <th>Time in bed (seconds)</th>\n",
              "      <th>Time asleep (seconds)</th>\n",
              "      <th>Time before sleep (seconds)</th>\n",
              "      <th>Window start</th>\n",
              "      <th>Window stop</th>\n",
              "      <th>Did snore</th>\n",
              "      <th>Snore time</th>\n",
              "      <th>Weather temperature (°C)</th>\n",
              "      <th>Weather type</th>\n",
              "      <th>Notes</th>\n",
              "    </tr>\n",
              "  </thead>\n",
              "  <tbody>\n",
              "    <tr>\n",
              "      <th>0</th>\n",
              "      <td>2019-05-12 23:26:13</td>\n",
              "      <td>2019-05-13 06:11:03</td>\n",
              "      <td>60%</td>\n",
              "      <td>0%</td>\n",
              "      <td>NaN</td>\n",
              "      <td>0</td>\n",
              "      <td>8350</td>\n",
              "      <td>Normal</td>\n",
              "      <td>NaN</td>\n",
              "      <td>NaN</td>\n",
              "      <td>...</td>\n",
              "      <td>24289.2</td>\n",
              "      <td>22993.8</td>\n",
              "      <td>161.9</td>\n",
              "      <td>2019-05-13 06:00:00</td>\n",
              "      <td>2019-05-13 06:00:00</td>\n",
              "      <td>True</td>\n",
              "      <td>92.0</td>\n",
              "      <td>0.0</td>\n",
              "      <td>No weather</td>\n",
              "      <td>NaN</td>\n",
              "    </tr>\n",
              "    <tr>\n",
              "      <th>1</th>\n",
              "      <td>2019-05-13 22:10:31</td>\n",
              "      <td>2019-05-14 06:10:42</td>\n",
              "      <td>73%</td>\n",
              "      <td>0%</td>\n",
              "      <td>NaN</td>\n",
              "      <td>0</td>\n",
              "      <td>4746</td>\n",
              "      <td>Normal</td>\n",
              "      <td>NaN</td>\n",
              "      <td>NaN</td>\n",
              "      <td>...</td>\n",
              "      <td>28810.2</td>\n",
              "      <td>25160.9</td>\n",
              "      <td>192.1</td>\n",
              "      <td>2019-05-14 05:50:00</td>\n",
              "      <td>2019-05-14 05:50:00</td>\n",
              "      <td>True</td>\n",
              "      <td>0.0</td>\n",
              "      <td>0.0</td>\n",
              "      <td>No weather</td>\n",
              "      <td>NaN</td>\n",
              "    </tr>\n",
              "    <tr>\n",
              "      <th>2</th>\n",
              "      <td>2019-05-14 21:43:00</td>\n",
              "      <td>2019-05-15 06:10:41</td>\n",
              "      <td>86%</td>\n",
              "      <td>96%</td>\n",
              "      <td>NaN</td>\n",
              "      <td>0</td>\n",
              "      <td>4007</td>\n",
              "      <td>Normal</td>\n",
              "      <td>NaN</td>\n",
              "      <td>NaN</td>\n",
              "      <td>...</td>\n",
              "      <td>30461.5</td>\n",
              "      <td>28430.8</td>\n",
              "      <td>203.1</td>\n",
              "      <td>2019-05-15 05:50:00</td>\n",
              "      <td>2019-05-15 05:50:00</td>\n",
              "      <td>True</td>\n",
              "      <td>74.0</td>\n",
              "      <td>0.0</td>\n",
              "      <td>No weather</td>\n",
              "      <td>NaN</td>\n",
              "    </tr>\n",
              "    <tr>\n",
              "      <th>3</th>\n",
              "      <td>2019-05-15 23:11:51</td>\n",
              "      <td>2019-05-16 06:13:59</td>\n",
              "      <td>77%</td>\n",
              "      <td>92%</td>\n",
              "      <td>NaN</td>\n",
              "      <td>0</td>\n",
              "      <td>6578</td>\n",
              "      <td>Normal</td>\n",
              "      <td>NaN</td>\n",
              "      <td>NaN</td>\n",
              "      <td>...</td>\n",
              "      <td>25327.6</td>\n",
              "      <td>23132.5</td>\n",
              "      <td>168.9</td>\n",
              "      <td>2019-05-16 05:50:00</td>\n",
              "      <td>2019-05-16 05:50:00</td>\n",
              "      <td>True</td>\n",
              "      <td>0.0</td>\n",
              "      <td>0.0</td>\n",
              "      <td>No weather</td>\n",
              "      <td>NaN</td>\n",
              "    </tr>\n",
              "    <tr>\n",
              "      <th>4</th>\n",
              "      <td>2019-05-16 23:12:13</td>\n",
              "      <td>2019-05-17 06:20:32</td>\n",
              "      <td>78%</td>\n",
              "      <td>94%</td>\n",
              "      <td>NaN</td>\n",
              "      <td>0</td>\n",
              "      <td>4913</td>\n",
              "      <td>Normal</td>\n",
              "      <td>NaN</td>\n",
              "      <td>NaN</td>\n",
              "      <td>...</td>\n",
              "      <td>25698.4</td>\n",
              "      <td>22614.6</td>\n",
              "      <td>171.3</td>\n",
              "      <td>2019-05-17 05:50:00</td>\n",
              "      <td>2019-05-17 05:50:00</td>\n",
              "      <td>True</td>\n",
              "      <td>188.0</td>\n",
              "      <td>0.0</td>\n",
              "      <td>No weather</td>\n",
              "      <td>NaN</td>\n",
              "    </tr>\n",
              "    <tr>\n",
              "      <th>...</th>\n",
              "      <td>...</td>\n",
              "      <td>...</td>\n",
              "      <td>...</td>\n",
              "      <td>...</td>\n",
              "      <td>...</td>\n",
              "      <td>...</td>\n",
              "      <td>...</td>\n",
              "      <td>...</td>\n",
              "      <td>...</td>\n",
              "      <td>...</td>\n",
              "      <td>...</td>\n",
              "      <td>...</td>\n",
              "      <td>...</td>\n",
              "      <td>...</td>\n",
              "      <td>...</td>\n",
              "      <td>...</td>\n",
              "      <td>...</td>\n",
              "      <td>...</td>\n",
              "      <td>...</td>\n",
              "      <td>...</td>\n",
              "      <td>...</td>\n",
              "    </tr>\n",
              "    <tr>\n",
              "      <th>916</th>\n",
              "      <td>2022-03-24 21:33:46</td>\n",
              "      <td>2022-03-25 04:21:40</td>\n",
              "      <td>71%</td>\n",
              "      <td>77%</td>\n",
              "      <td>NaN</td>\n",
              "      <td>0</td>\n",
              "      <td>3903</td>\n",
              "      <td>Normal</td>\n",
              "      <td>95.2</td>\n",
              "      <td>Central Kootenay</td>\n",
              "      <td>...</td>\n",
              "      <td>24474.1</td>\n",
              "      <td>20803.0</td>\n",
              "      <td>489.5</td>\n",
              "      <td>2022-03-25 04:20:00</td>\n",
              "      <td>2022-03-25 04:20:00</td>\n",
              "      <td>True</td>\n",
              "      <td>695.7</td>\n",
              "      <td>4.0</td>\n",
              "      <td>Cloudy</td>\n",
              "      <td>NaN</td>\n",
              "    </tr>\n",
              "    <tr>\n",
              "      <th>917</th>\n",
              "      <td>2022-03-25 16:48:05</td>\n",
              "      <td>2022-03-25 17:30:22</td>\n",
              "      <td>9%</td>\n",
              "      <td>14%</td>\n",
              "      <td>NaN</td>\n",
              "      <td>0</td>\n",
              "      <td>495</td>\n",
              "      <td>Normal</td>\n",
              "      <td>83.8</td>\n",
              "      <td>North Okanagan</td>\n",
              "      <td>...</td>\n",
              "      <td>2536.2</td>\n",
              "      <td>0.0</td>\n",
              "      <td>0.0</td>\n",
              "      <td>2022-03-25 17:30:00</td>\n",
              "      <td>2022-03-25 17:30:00</td>\n",
              "      <td>True</td>\n",
              "      <td>0.0</td>\n",
              "      <td>5.0</td>\n",
              "      <td>Cloudy</td>\n",
              "      <td>NaN</td>\n",
              "    </tr>\n",
              "    <tr>\n",
              "      <th>918</th>\n",
              "      <td>2022-03-26 21:14:23</td>\n",
              "      <td>2022-03-27 06:11:01</td>\n",
              "      <td>49%</td>\n",
              "      <td>-1%</td>\n",
              "      <td>NaN</td>\n",
              "      <td>0</td>\n",
              "      <td>13388</td>\n",
              "      <td>Normal</td>\n",
              "      <td>83.5</td>\n",
              "      <td>North Okanagan</td>\n",
              "      <td>...</td>\n",
              "      <td>32198.1</td>\n",
              "      <td>24577.9</td>\n",
              "      <td>3649.1</td>\n",
              "      <td>2022-03-27 06:00:00</td>\n",
              "      <td>2022-03-27 06:00:00</td>\n",
              "      <td>True</td>\n",
              "      <td>506.4</td>\n",
              "      <td>-1.1</td>\n",
              "      <td>Cloudy</td>\n",
              "      <td>NaN</td>\n",
              "    </tr>\n",
              "    <tr>\n",
              "      <th>919</th>\n",
              "      <td>2022-03-28 22:53:23</td>\n",
              "      <td>2022-03-29 04:50:36</td>\n",
              "      <td>77%</td>\n",
              "      <td>22%</td>\n",
              "      <td>NaN</td>\n",
              "      <td>0</td>\n",
              "      <td>456</td>\n",
              "      <td>Normal</td>\n",
              "      <td>93.9</td>\n",
              "      <td>Central Kootenay</td>\n",
              "      <td>...</td>\n",
              "      <td>21433.6</td>\n",
              "      <td>15860.8</td>\n",
              "      <td>428.7</td>\n",
              "      <td>2022-03-29 04:20:00</td>\n",
              "      <td>2022-03-29 04:20:00</td>\n",
              "      <td>True</td>\n",
              "      <td>60.0</td>\n",
              "      <td>6.1</td>\n",
              "      <td>Sunny</td>\n",
              "      <td>NaN</td>\n",
              "    </tr>\n",
              "    <tr>\n",
              "      <th>920</th>\n",
              "      <td>2022-03-29 22:44:09</td>\n",
              "      <td>2022-03-30 05:11:15</td>\n",
              "      <td>68%</td>\n",
              "      <td>85%</td>\n",
              "      <td>NaN</td>\n",
              "      <td>0</td>\n",
              "      <td>5156</td>\n",
              "      <td>Normal</td>\n",
              "      <td>94.4</td>\n",
              "      <td>Central Kootenay</td>\n",
              "      <td>...</td>\n",
              "      <td>23225.9</td>\n",
              "      <td>18813.0</td>\n",
              "      <td>464.5</td>\n",
              "      <td>2022-03-30 05:00:00</td>\n",
              "      <td>2022-03-30 05:00:00</td>\n",
              "      <td>True</td>\n",
              "      <td>720.0</td>\n",
              "      <td>10.5</td>\n",
              "      <td>Cloudy</td>\n",
              "      <td>NaN</td>\n",
              "    </tr>\n",
              "  </tbody>\n",
              "</table>\n",
              "<p>921 rows × 21 columns</p>\n",
              "</div>\n",
              "      <button class=\"colab-df-convert\" onclick=\"convertToInteractive('df-f9f40da2-6f61-45df-8537-74d14cb85f45')\"\n",
              "              title=\"Convert this dataframe to an interactive table.\"\n",
              "              style=\"display:none;\">\n",
              "        \n",
              "  <svg xmlns=\"http://www.w3.org/2000/svg\" height=\"24px\"viewBox=\"0 0 24 24\"\n",
              "       width=\"24px\">\n",
              "    <path d=\"M0 0h24v24H0V0z\" fill=\"none\"/>\n",
              "    <path d=\"M18.56 5.44l.94 2.06.94-2.06 2.06-.94-2.06-.94-.94-2.06-.94 2.06-2.06.94zm-11 1L8.5 8.5l.94-2.06 2.06-.94-2.06-.94L8.5 2.5l-.94 2.06-2.06.94zm10 10l.94 2.06.94-2.06 2.06-.94-2.06-.94-.94-2.06-.94 2.06-2.06.94z\"/><path d=\"M17.41 7.96l-1.37-1.37c-.4-.4-.92-.59-1.43-.59-.52 0-1.04.2-1.43.59L10.3 9.45l-7.72 7.72c-.78.78-.78 2.05 0 2.83L4 21.41c.39.39.9.59 1.41.59.51 0 1.02-.2 1.41-.59l7.78-7.78 2.81-2.81c.8-.78.8-2.07 0-2.86zM5.41 20L4 18.59l7.72-7.72 1.47 1.35L5.41 20z\"/>\n",
              "  </svg>\n",
              "      </button>\n",
              "      \n",
              "  <style>\n",
              "    .colab-df-container {\n",
              "      display:flex;\n",
              "      flex-wrap:wrap;\n",
              "      gap: 12px;\n",
              "    }\n",
              "\n",
              "    .colab-df-convert {\n",
              "      background-color: #E8F0FE;\n",
              "      border: none;\n",
              "      border-radius: 50%;\n",
              "      cursor: pointer;\n",
              "      display: none;\n",
              "      fill: #1967D2;\n",
              "      height: 32px;\n",
              "      padding: 0 0 0 0;\n",
              "      width: 32px;\n",
              "    }\n",
              "\n",
              "    .colab-df-convert:hover {\n",
              "      background-color: #E2EBFA;\n",
              "      box-shadow: 0px 1px 2px rgba(60, 64, 67, 0.3), 0px 1px 3px 1px rgba(60, 64, 67, 0.15);\n",
              "      fill: #174EA6;\n",
              "    }\n",
              "\n",
              "    [theme=dark] .colab-df-convert {\n",
              "      background-color: #3B4455;\n",
              "      fill: #D2E3FC;\n",
              "    }\n",
              "\n",
              "    [theme=dark] .colab-df-convert:hover {\n",
              "      background-color: #434B5C;\n",
              "      box-shadow: 0px 1px 3px 1px rgba(0, 0, 0, 0.15);\n",
              "      filter: drop-shadow(0px 1px 2px rgba(0, 0, 0, 0.3));\n",
              "      fill: #FFFFFF;\n",
              "    }\n",
              "  </style>\n",
              "\n",
              "      <script>\n",
              "        const buttonEl =\n",
              "          document.querySelector('#df-f9f40da2-6f61-45df-8537-74d14cb85f45 button.colab-df-convert');\n",
              "        buttonEl.style.display =\n",
              "          google.colab.kernel.accessAllowed ? 'block' : 'none';\n",
              "\n",
              "        async function convertToInteractive(key) {\n",
              "          const element = document.querySelector('#df-f9f40da2-6f61-45df-8537-74d14cb85f45');\n",
              "          const dataTable =\n",
              "            await google.colab.kernel.invokeFunction('convertToInteractive',\n",
              "                                                     [key], {});\n",
              "          if (!dataTable) return;\n",
              "\n",
              "          const docLinkHtml = 'Like what you see? Visit the ' +\n",
              "            '<a target=\"_blank\" href=https://colab.research.google.com/notebooks/data_table.ipynb>data table notebook</a>'\n",
              "            + ' to learn more about interactive tables.';\n",
              "          element.innerHTML = '';\n",
              "          dataTable['output_type'] = 'display_data';\n",
              "          await google.colab.output.renderOutput(dataTable, element);\n",
              "          const docLink = document.createElement('div');\n",
              "          docLink.innerHTML = docLinkHtml;\n",
              "          element.appendChild(docLink);\n",
              "        }\n",
              "      </script>\n",
              "    </div>\n",
              "  </div>\n",
              "  "
            ]
          },
          "metadata": {},
          "execution_count": 108
        }
      ]
    },
    {
      "cell_type": "code",
      "source": [
        "df.columns"
      ],
      "metadata": {
        "colab": {
          "base_uri": "https://localhost:8080/"
        },
        "id": "HP8kMTwNyXFF",
        "outputId": "c53aa314-ad39-4453-cce7-5757adab909d"
      },
      "execution_count": 109,
      "outputs": [
        {
          "output_type": "execute_result",
          "data": {
            "text/plain": [
              "Index(['Start', 'End', 'Sleep Quality', 'Regularity', 'Mood',\n",
              "       'Heart rate (bpm)', 'Steps', 'Alarm mode', 'Air Pressure (Pa)', 'City',\n",
              "       'Movements per hour', 'Time in bed (seconds)', 'Time asleep (seconds)',\n",
              "       'Time before sleep (seconds)', 'Window start', 'Window stop',\n",
              "       'Did snore', 'Snore time', 'Weather temperature (°C)', 'Weather type',\n",
              "       'Notes'],\n",
              "      dtype='object')"
            ]
          },
          "metadata": {},
          "execution_count": 109
        }
      ]
    },
    {
      "cell_type": "code",
      "source": [
        "df.index"
      ],
      "metadata": {
        "colab": {
          "base_uri": "https://localhost:8080/"
        },
        "id": "p5xEjdiizGH9",
        "outputId": "6d259034-320a-42c3-f2bf-ef2ea106cf00"
      },
      "execution_count": 110,
      "outputs": [
        {
          "output_type": "execute_result",
          "data": {
            "text/plain": [
              "RangeIndex(start=0, stop=921, step=1)"
            ]
          },
          "metadata": {},
          "execution_count": 110
        }
      ]
    },
    {
      "cell_type": "code",
      "source": [
        "df.info()"
      ],
      "metadata": {
        "colab": {
          "base_uri": "https://localhost:8080/"
        },
        "id": "DRxcLHfgzNyS",
        "outputId": "9d193d4d-d0f0-493f-929a-b93fd86b1728"
      },
      "execution_count": 111,
      "outputs": [
        {
          "output_type": "stream",
          "name": "stdout",
          "text": [
            "<class 'pandas.core.frame.DataFrame'>\n",
            "RangeIndex: 921 entries, 0 to 920\n",
            "Data columns (total 21 columns):\n",
            " #   Column                       Non-Null Count  Dtype  \n",
            "---  ------                       --------------  -----  \n",
            " 0   Start                        921 non-null    object \n",
            " 1   End                          921 non-null    object \n",
            " 2   Sleep Quality                921 non-null    object \n",
            " 3   Regularity                   921 non-null    object \n",
            " 4   Mood                         0 non-null      float64\n",
            " 5   Heart rate (bpm)             921 non-null    int64  \n",
            " 6   Steps                        921 non-null    int64  \n",
            " 7   Alarm mode                   921 non-null    object \n",
            " 8   Air Pressure (Pa)            492 non-null    float64\n",
            " 9   City                         487 non-null    object \n",
            " 10  Movements per hour           921 non-null    float64\n",
            " 11  Time in bed (seconds)        921 non-null    float64\n",
            " 12  Time asleep (seconds)        921 non-null    float64\n",
            " 13  Time before sleep (seconds)  921 non-null    float64\n",
            " 14  Window start                 841 non-null    object \n",
            " 15  Window stop                  841 non-null    object \n",
            " 16  Did snore                    921 non-null    bool   \n",
            " 17  Snore time                   921 non-null    float64\n",
            " 18  Weather temperature (°C)     921 non-null    float64\n",
            " 19  Weather type                 921 non-null    object \n",
            " 20  Notes                        9 non-null      object \n",
            "dtypes: bool(1), float64(8), int64(2), object(10)\n",
            "memory usage: 144.9+ KB\n"
          ]
        }
      ]
    },
    {
      "cell_type": "code",
      "source": [
        "df.size"
      ],
      "metadata": {
        "colab": {
          "base_uri": "https://localhost:8080/"
        },
        "id": "p-axjmmn0nzw",
        "outputId": "95429d96-57d0-48a3-a714-b8fc82c069d5"
      },
      "execution_count": 112,
      "outputs": [
        {
          "output_type": "execute_result",
          "data": {
            "text/plain": [
              "19341"
            ]
          },
          "metadata": {},
          "execution_count": 112
        }
      ]
    },
    {
      "cell_type": "code",
      "source": [
        "df.shape"
      ],
      "metadata": {
        "colab": {
          "base_uri": "https://localhost:8080/"
        },
        "id": "1WE6LR6z0t9r",
        "outputId": "7956c33f-93b7-4905-ffe4-a2c6aec6c7cd"
      },
      "execution_count": 113,
      "outputs": [
        {
          "output_type": "execute_result",
          "data": {
            "text/plain": [
              "(921, 21)"
            ]
          },
          "metadata": {},
          "execution_count": 113
        }
      ]
    },
    {
      "cell_type": "code",
      "source": [
        "df.describe()"
      ],
      "metadata": {
        "colab": {
          "base_uri": "https://localhost:8080/",
          "height": 379
        },
        "id": "jnJbNfgC3xWd",
        "outputId": "7ba4e472-67f6-48cc-aff5-197b499a8424"
      },
      "execution_count": 114,
      "outputs": [
        {
          "output_type": "execute_result",
          "data": {
            "text/plain": [
              "       Mood  Heart rate (bpm)         Steps  Air Pressure (Pa)  \\\n",
              "count   0.0             921.0    921.000000         492.000000   \n",
              "mean    NaN               0.0   5311.599349          68.660163   \n",
              "std     NaN               0.0   4396.822762          41.845368   \n",
              "min     NaN               0.0      0.000000           0.000000   \n",
              "25%     NaN               0.0   2299.000000           0.000000   \n",
              "50%     NaN               0.0   4245.000000          93.700000   \n",
              "75%     NaN               0.0   7452.000000          94.400000   \n",
              "max     NaN               0.0  38165.000000          96.500000   \n",
              "\n",
              "       Movements per hour  Time in bed (seconds)  Time asleep (seconds)  \\\n",
              "count          921.000000             921.000000             921.000000   \n",
              "mean           174.277416           27505.497611           23912.683170   \n",
              "std            822.776299            3916.696288            4066.189356   \n",
              "min              0.000000            1852.800000               0.000000   \n",
              "25%             37.000000           25500.600000           21627.500000   \n",
              "50%             49.600000           27422.900000           23919.000000   \n",
              "75%             65.200000           29530.100000           26257.000000   \n",
              "max          17926.700000           46703.400000           45769.400000   \n",
              "\n",
              "       Time before sleep (seconds)   Snore time  Weather temperature (°C)  \n",
              "count                   921.000000   921.000000                921.000000  \n",
              "mean                   1001.556135   312.944300                  2.142562  \n",
              "std                    1046.287777   455.472848                  6.324558  \n",
              "min                       0.000000     0.000000                -19.000000  \n",
              "25%                     449.900000     0.000000                  0.000000  \n",
              "50%                     563.700000   148.000000                  0.000000  \n",
              "75%                    1287.000000   440.000000                  3.100000  \n",
              "max                    5677.700000  4477.300000                 24.500000  "
            ],
            "text/html": [
              "\n",
              "  <div id=\"df-74235a72-085b-4608-9a4e-650600c4f571\">\n",
              "    <div class=\"colab-df-container\">\n",
              "      <div>\n",
              "<style scoped>\n",
              "    .dataframe tbody tr th:only-of-type {\n",
              "        vertical-align: middle;\n",
              "    }\n",
              "\n",
              "    .dataframe tbody tr th {\n",
              "        vertical-align: top;\n",
              "    }\n",
              "\n",
              "    .dataframe thead th {\n",
              "        text-align: right;\n",
              "    }\n",
              "</style>\n",
              "<table border=\"1\" class=\"dataframe\">\n",
              "  <thead>\n",
              "    <tr style=\"text-align: right;\">\n",
              "      <th></th>\n",
              "      <th>Mood</th>\n",
              "      <th>Heart rate (bpm)</th>\n",
              "      <th>Steps</th>\n",
              "      <th>Air Pressure (Pa)</th>\n",
              "      <th>Movements per hour</th>\n",
              "      <th>Time in bed (seconds)</th>\n",
              "      <th>Time asleep (seconds)</th>\n",
              "      <th>Time before sleep (seconds)</th>\n",
              "      <th>Snore time</th>\n",
              "      <th>Weather temperature (°C)</th>\n",
              "    </tr>\n",
              "  </thead>\n",
              "  <tbody>\n",
              "    <tr>\n",
              "      <th>count</th>\n",
              "      <td>0.0</td>\n",
              "      <td>921.0</td>\n",
              "      <td>921.000000</td>\n",
              "      <td>492.000000</td>\n",
              "      <td>921.000000</td>\n",
              "      <td>921.000000</td>\n",
              "      <td>921.000000</td>\n",
              "      <td>921.000000</td>\n",
              "      <td>921.000000</td>\n",
              "      <td>921.000000</td>\n",
              "    </tr>\n",
              "    <tr>\n",
              "      <th>mean</th>\n",
              "      <td>NaN</td>\n",
              "      <td>0.0</td>\n",
              "      <td>5311.599349</td>\n",
              "      <td>68.660163</td>\n",
              "      <td>174.277416</td>\n",
              "      <td>27505.497611</td>\n",
              "      <td>23912.683170</td>\n",
              "      <td>1001.556135</td>\n",
              "      <td>312.944300</td>\n",
              "      <td>2.142562</td>\n",
              "    </tr>\n",
              "    <tr>\n",
              "      <th>std</th>\n",
              "      <td>NaN</td>\n",
              "      <td>0.0</td>\n",
              "      <td>4396.822762</td>\n",
              "      <td>41.845368</td>\n",
              "      <td>822.776299</td>\n",
              "      <td>3916.696288</td>\n",
              "      <td>4066.189356</td>\n",
              "      <td>1046.287777</td>\n",
              "      <td>455.472848</td>\n",
              "      <td>6.324558</td>\n",
              "    </tr>\n",
              "    <tr>\n",
              "      <th>min</th>\n",
              "      <td>NaN</td>\n",
              "      <td>0.0</td>\n",
              "      <td>0.000000</td>\n",
              "      <td>0.000000</td>\n",
              "      <td>0.000000</td>\n",
              "      <td>1852.800000</td>\n",
              "      <td>0.000000</td>\n",
              "      <td>0.000000</td>\n",
              "      <td>0.000000</td>\n",
              "      <td>-19.000000</td>\n",
              "    </tr>\n",
              "    <tr>\n",
              "      <th>25%</th>\n",
              "      <td>NaN</td>\n",
              "      <td>0.0</td>\n",
              "      <td>2299.000000</td>\n",
              "      <td>0.000000</td>\n",
              "      <td>37.000000</td>\n",
              "      <td>25500.600000</td>\n",
              "      <td>21627.500000</td>\n",
              "      <td>449.900000</td>\n",
              "      <td>0.000000</td>\n",
              "      <td>0.000000</td>\n",
              "    </tr>\n",
              "    <tr>\n",
              "      <th>50%</th>\n",
              "      <td>NaN</td>\n",
              "      <td>0.0</td>\n",
              "      <td>4245.000000</td>\n",
              "      <td>93.700000</td>\n",
              "      <td>49.600000</td>\n",
              "      <td>27422.900000</td>\n",
              "      <td>23919.000000</td>\n",
              "      <td>563.700000</td>\n",
              "      <td>148.000000</td>\n",
              "      <td>0.000000</td>\n",
              "    </tr>\n",
              "    <tr>\n",
              "      <th>75%</th>\n",
              "      <td>NaN</td>\n",
              "      <td>0.0</td>\n",
              "      <td>7452.000000</td>\n",
              "      <td>94.400000</td>\n",
              "      <td>65.200000</td>\n",
              "      <td>29530.100000</td>\n",
              "      <td>26257.000000</td>\n",
              "      <td>1287.000000</td>\n",
              "      <td>440.000000</td>\n",
              "      <td>3.100000</td>\n",
              "    </tr>\n",
              "    <tr>\n",
              "      <th>max</th>\n",
              "      <td>NaN</td>\n",
              "      <td>0.0</td>\n",
              "      <td>38165.000000</td>\n",
              "      <td>96.500000</td>\n",
              "      <td>17926.700000</td>\n",
              "      <td>46703.400000</td>\n",
              "      <td>45769.400000</td>\n",
              "      <td>5677.700000</td>\n",
              "      <td>4477.300000</td>\n",
              "      <td>24.500000</td>\n",
              "    </tr>\n",
              "  </tbody>\n",
              "</table>\n",
              "</div>\n",
              "      <button class=\"colab-df-convert\" onclick=\"convertToInteractive('df-74235a72-085b-4608-9a4e-650600c4f571')\"\n",
              "              title=\"Convert this dataframe to an interactive table.\"\n",
              "              style=\"display:none;\">\n",
              "        \n",
              "  <svg xmlns=\"http://www.w3.org/2000/svg\" height=\"24px\"viewBox=\"0 0 24 24\"\n",
              "       width=\"24px\">\n",
              "    <path d=\"M0 0h24v24H0V0z\" fill=\"none\"/>\n",
              "    <path d=\"M18.56 5.44l.94 2.06.94-2.06 2.06-.94-2.06-.94-.94-2.06-.94 2.06-2.06.94zm-11 1L8.5 8.5l.94-2.06 2.06-.94-2.06-.94L8.5 2.5l-.94 2.06-2.06.94zm10 10l.94 2.06.94-2.06 2.06-.94-2.06-.94-.94-2.06-.94 2.06-2.06.94z\"/><path d=\"M17.41 7.96l-1.37-1.37c-.4-.4-.92-.59-1.43-.59-.52 0-1.04.2-1.43.59L10.3 9.45l-7.72 7.72c-.78.78-.78 2.05 0 2.83L4 21.41c.39.39.9.59 1.41.59.51 0 1.02-.2 1.41-.59l7.78-7.78 2.81-2.81c.8-.78.8-2.07 0-2.86zM5.41 20L4 18.59l7.72-7.72 1.47 1.35L5.41 20z\"/>\n",
              "  </svg>\n",
              "      </button>\n",
              "      \n",
              "  <style>\n",
              "    .colab-df-container {\n",
              "      display:flex;\n",
              "      flex-wrap:wrap;\n",
              "      gap: 12px;\n",
              "    }\n",
              "\n",
              "    .colab-df-convert {\n",
              "      background-color: #E8F0FE;\n",
              "      border: none;\n",
              "      border-radius: 50%;\n",
              "      cursor: pointer;\n",
              "      display: none;\n",
              "      fill: #1967D2;\n",
              "      height: 32px;\n",
              "      padding: 0 0 0 0;\n",
              "      width: 32px;\n",
              "    }\n",
              "\n",
              "    .colab-df-convert:hover {\n",
              "      background-color: #E2EBFA;\n",
              "      box-shadow: 0px 1px 2px rgba(60, 64, 67, 0.3), 0px 1px 3px 1px rgba(60, 64, 67, 0.15);\n",
              "      fill: #174EA6;\n",
              "    }\n",
              "\n",
              "    [theme=dark] .colab-df-convert {\n",
              "      background-color: #3B4455;\n",
              "      fill: #D2E3FC;\n",
              "    }\n",
              "\n",
              "    [theme=dark] .colab-df-convert:hover {\n",
              "      background-color: #434B5C;\n",
              "      box-shadow: 0px 1px 3px 1px rgba(0, 0, 0, 0.15);\n",
              "      filter: drop-shadow(0px 1px 2px rgba(0, 0, 0, 0.3));\n",
              "      fill: #FFFFFF;\n",
              "    }\n",
              "  </style>\n",
              "\n",
              "      <script>\n",
              "        const buttonEl =\n",
              "          document.querySelector('#df-74235a72-085b-4608-9a4e-650600c4f571 button.colab-df-convert');\n",
              "        buttonEl.style.display =\n",
              "          google.colab.kernel.accessAllowed ? 'block' : 'none';\n",
              "\n",
              "        async function convertToInteractive(key) {\n",
              "          const element = document.querySelector('#df-74235a72-085b-4608-9a4e-650600c4f571');\n",
              "          const dataTable =\n",
              "            await google.colab.kernel.invokeFunction('convertToInteractive',\n",
              "                                                     [key], {});\n",
              "          if (!dataTable) return;\n",
              "\n",
              "          const docLinkHtml = 'Like what you see? Visit the ' +\n",
              "            '<a target=\"_blank\" href=https://colab.research.google.com/notebooks/data_table.ipynb>data table notebook</a>'\n",
              "            + ' to learn more about interactive tables.';\n",
              "          element.innerHTML = '';\n",
              "          dataTable['output_type'] = 'display_data';\n",
              "          await google.colab.output.renderOutput(dataTable, element);\n",
              "          const docLink = document.createElement('div');\n",
              "          docLink.innerHTML = docLinkHtml;\n",
              "          element.appendChild(docLink);\n",
              "        }\n",
              "      </script>\n",
              "    </div>\n",
              "  </div>\n",
              "  "
            ]
          },
          "metadata": {},
          "execution_count": 114
        }
      ]
    },
    {
      "cell_type": "code",
      "source": [
        "df.dtypes"
      ],
      "metadata": {
        "colab": {
          "base_uri": "https://localhost:8080/"
        },
        "id": "ZmeDpPyQ5SXR",
        "outputId": "dc0776ed-dc2d-4e88-c2a2-299f1a6a71d4"
      },
      "execution_count": 115,
      "outputs": [
        {
          "output_type": "execute_result",
          "data": {
            "text/plain": [
              "Start                           object\n",
              "End                             object\n",
              "Sleep Quality                   object\n",
              "Regularity                      object\n",
              "Mood                           float64\n",
              "Heart rate (bpm)                 int64\n",
              "Steps                            int64\n",
              "Alarm mode                      object\n",
              "Air Pressure (Pa)              float64\n",
              "City                            object\n",
              "Movements per hour             float64\n",
              "Time in bed (seconds)          float64\n",
              "Time asleep (seconds)          float64\n",
              "Time before sleep (seconds)    float64\n",
              "Window start                    object\n",
              "Window stop                     object\n",
              "Did snore                         bool\n",
              "Snore time                     float64\n",
              "Weather temperature (°C)       float64\n",
              "Weather type                    object\n",
              "Notes                           object\n",
              "dtype: object"
            ]
          },
          "metadata": {},
          "execution_count": 115
        }
      ]
    },
    {
      "cell_type": "code",
      "source": [
        "df.dtypes.value_counts()"
      ],
      "metadata": {
        "colab": {
          "base_uri": "https://localhost:8080/"
        },
        "id": "TNBwnnve6ZKB",
        "outputId": "bd534271-ef9b-4060-9845-9d56ff3d7d5b"
      },
      "execution_count": 116,
      "outputs": [
        {
          "output_type": "execute_result",
          "data": {
            "text/plain": [
              "object     10\n",
              "float64     8\n",
              "int64       2\n",
              "bool        1\n",
              "dtype: int64"
            ]
          },
          "metadata": {},
          "execution_count": 116
        }
      ]
    },
    {
      "cell_type": "markdown",
      "source": [
        "Indexing, Selection and Slicing "
      ],
      "metadata": {
        "id": "1AMu_Ihi7LFw"
      }
    },
    {
      "cell_type": "code",
      "source": [
        "df['Sleep Quality']"
      ],
      "metadata": {
        "colab": {
          "base_uri": "https://localhost:8080/"
        },
        "id": "FJ2XcxIB6omb",
        "outputId": "c5f20ab0-9cee-4ef5-b8b2-c88aeb269dcf"
      },
      "execution_count": 118,
      "outputs": [
        {
          "output_type": "execute_result",
          "data": {
            "text/plain": [
              "0      60%\n",
              "1      73%\n",
              "2      86%\n",
              "3      77%\n",
              "4      78%\n",
              "      ... \n",
              "916    71%\n",
              "917     9%\n",
              "918    49%\n",
              "919    77%\n",
              "920    68%\n",
              "Name: Sleep Quality, Length: 921, dtype: object"
            ]
          },
          "metadata": {},
          "execution_count": 118
        }
      ]
    },
    {
      "cell_type": "code",
      "source": [
        "df.iloc[-1]"
      ],
      "metadata": {
        "colab": {
          "base_uri": "https://localhost:8080/"
        },
        "id": "NU4fKIbe_hG2",
        "outputId": "06108cb8-5760-4600-81e5-e60a03e923fe"
      },
      "execution_count": 119,
      "outputs": [
        {
          "output_type": "execute_result",
          "data": {
            "text/plain": [
              "Start                          2022-03-29 22:44:09\n",
              "End                            2022-03-30 05:11:15\n",
              "Sleep Quality                                  68%\n",
              "Regularity                                     85%\n",
              "Mood                                           NaN\n",
              "Heart rate (bpm)                                 0\n",
              "Steps                                         5156\n",
              "Alarm mode                                  Normal\n",
              "Air Pressure (Pa)                             94.4\n",
              "City                              Central Kootenay\n",
              "Movements per hour                            38.2\n",
              "Time in bed (seconds)                      23225.9\n",
              "Time asleep (seconds)                      18813.0\n",
              "Time before sleep (seconds)                  464.5\n",
              "Window start                   2022-03-30 05:00:00\n",
              "Window stop                    2022-03-30 05:00:00\n",
              "Did snore                                     True\n",
              "Snore time                                   720.0\n",
              "Weather temperature (°C)                      10.5\n",
              "Weather type                                Cloudy\n",
              "Notes                                          NaN\n",
              "Name: 920, dtype: object"
            ]
          },
          "metadata": {},
          "execution_count": 119
        }
      ]
    }
  ]
}